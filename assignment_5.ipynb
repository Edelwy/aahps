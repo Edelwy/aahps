{
 "cells": [
  {
   "attachments": {},
   "cell_type": "markdown",
   "metadata": {},
   "source": [
    "# **AAHPS: ASSIGNMENT 5**\n",
    "\n",
    "**Authors**: Nina Mislej and Nika Molan\n",
    "<br/>**Student numbers**: 63200016 and 63200017\n",
    "\n",
    "### **Exercise Description**\n",
    "The aim of this assignment is to find the best result for **24 optimization** (*minimization*) **functions** that are available as **BBOB** (*Black-Box Optimization Benchmark*). We will implement **2 optimization programs** one of which has to be **local search** and the other one can be **any** optimization approach.\n",
    "<br/>The functions are available in ***smoof*** package in **R** and we will initialize the functions with **40 dimensions** using the *iid*: **2023**\n",
    "\n",
    "In addition to this report the results include the **coordinates** for each of the **24 minimums**. These are included in a separate file, one for each algorithm. \n",
    "<br/>One line represents **40**-**touple** for one function"
   ]
  },
  {
   "cell_type": "code",
   "execution_count": 1,
   "metadata": {},
   "outputs": [],
   "source": [
    "# setting up the package and enviroment\n",
    "import numpy as np\n",
    "from rpy2.robjects import numpy2ri\n",
    "from rpy2.robjects.packages import importr\n",
    "\n",
    "numpy2ri.activate() # automatic conversion from numpy to R arrays\n",
    "smoof = importr(\"smoof\") # importing R smoof package\n",
    "GenSA = importr(\"GenSA\") # importing R GenSA package "
   ]
  },
  {
   "attachments": {},
   "cell_type": "markdown",
   "metadata": {},
   "source": [
    "Now we **initialize** the functions.\n",
    "</br>In this process we also save their known minimums, which are provided in their description. We will use these minimums later on **to compare** the coordinates we get from our optimization algorithms."
   ]
  },
  {
   "cell_type": "code",
   "execution_count": 28,
   "metadata": {},
   "outputs": [
    {
     "name": "stdout",
     "output_type": "stream",
     "text": [
      "MINIMUM OF FUNCTION 1: 21.1\n",
      "MINIMUM OF FUNCTION 2: 26.91\n",
      "MINIMUM OF FUNCTION 3: 311.6\n",
      "MINIMUM OF FUNCTION 4: 311.6\n",
      "MINIMUM OF FUNCTION 5: -48.47\n",
      "MINIMUM OF FUNCTION 6: -91.36\n",
      "MINIMUM OF FUNCTION 7: 32.49\n",
      "MINIMUM OF FUNCTION 8: 71.6\n",
      "MINIMUM OF FUNCTION 9: -356.7\n",
      "MINIMUM OF FUNCTION 10: 51.03\n",
      "MINIMUM OF FUNCTION 11: -96.65\n",
      "MINIMUM OF FUNCTION 12: 553.39\n",
      "MINIMUM OF FUNCTION 13: 9.88\n",
      "MINIMUM OF FUNCTION 14: 405.47\n",
      "MINIMUM OF FUNCTION 15: 64.25\n",
      "MINIMUM OF FUNCTION 16: -43.28\n",
      "MINIMUM OF FUNCTION 17: 227.51\n",
      "MINIMUM OF FUNCTION 18: 227.51\n",
      "MINIMUM OF FUNCTION 19: 73.06\n",
      "MINIMUM OF FUNCTION 20: -123.81\n",
      "MINIMUM OF FUNCTION 21: -44.42\n",
      "MINIMUM OF FUNCTION 22: 222.1\n",
      "MINIMUM OF FUNCTION 23: -1000.0\n",
      "MINIMUM OF FUNCTION 24: -1.33\n"
     ]
    }
   ],
   "source": [
    "# initializing the functions and checking their minimums\n",
    "functions = {}\n",
    "true_minimums = {}\n",
    "\n",
    "for fun in range(1, 25):\n",
    "    functions[fun] = (smoof.makeBBOBFunction(40, fun, 2023))\n",
    "    true_minimums[fun] = smoof.getGlobalOptimum(functions[fun]).rx2(\"value\")[0]\n",
    "    print(f\"MINIMUM OF FUNCTION {fun}: {true_minimums[fun]}\")"
   ]
  },
  {
   "attachments": {},
   "cell_type": "markdown",
   "metadata": {},
   "source": []
  }
 ],
 "metadata": {
  "kernelspec": {
   "display_name": "Python 3",
   "language": "python",
   "name": "python3"
  },
  "language_info": {
   "codemirror_mode": {
    "name": "ipython",
    "version": 3
   },
   "file_extension": ".py",
   "mimetype": "text/x-python",
   "name": "python",
   "nbconvert_exporter": "python",
   "pygments_lexer": "ipython3",
   "version": "3.10.4"
  },
  "orig_nbformat": 4
 },
 "nbformat": 4,
 "nbformat_minor": 2
}
