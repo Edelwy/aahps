{
 "cells": [
  {
   "attachments": {},
   "cell_type": "markdown",
   "metadata": {},
   "source": [
    "# **AAHPS: ASSIGNMENT 3**\n",
    "\n",
    "**Author**: Nina Mislej\n",
    "<br/>**Student number**: 63200016\n",
    "\n",
    "### **Exercise Description**\n",
    "We are implementing 3 different basic search algorithms: **grid search**, **random search** and **first descent local optimization**.\n",
    "<br/>The assignment consists of **finding values** at specific points in **2D space** of three functions: **Rosenbrock**, **Ackley** and **Rastrigin**. \n",
    "<br/>This assignment serves as an introduction to **continuous optimization** using functions available in ***smoof*** package in **R**. \n"
   ]
  },
  {
   "cell_type": "code",
   "execution_count": null,
   "metadata": {},
   "outputs": [],
   "source": [
    "# setting up the package and enviroment\n"
   ]
  }
 ],
 "metadata": {
  "language_info": {
   "name": "python"
  },
  "orig_nbformat": 4
 },
 "nbformat": 4,
 "nbformat_minor": 2
}
